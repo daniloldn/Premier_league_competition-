{
 "cells": [
  {
   "cell_type": "code",
   "execution_count": 1,
   "id": "ad963fe0",
   "metadata": {},
   "outputs": [],
   "source": [
    "from scipy.stats import poisson \n",
    "import numpy as np\n",
    "import matplotlib\n",
    "import matplotlib.pyplot as plt \n",
    "import seaborn as sns\n",
    "import pandas as pd\n",
    "import statsmodels.api as sm\n",
    "import statsmodels.formula.api as smf\n",
    "import scipy"
   ]
  },
  {
   "cell_type": "code",
   "execution_count": 2,
   "id": "643d8e50",
   "metadata": {},
   "outputs": [],
   "source": [
    "df_07 = pd.read_csv('prem07.csv')"
   ]
  },
  {
   "cell_type": "code",
   "execution_count": 3,
   "id": "b3bd8fbb",
   "metadata": {},
   "outputs": [],
   "source": [
    "df_08 = pd.read_csv('prem08.csv')"
   ]
  },
  {
   "cell_type": "code",
   "execution_count": 4,
   "id": "499a1dda",
   "metadata": {},
   "outputs": [],
   "source": [
    "df_09 = pd.read_csv('prem09.csv')"
   ]
  },
  {
   "cell_type": "code",
   "execution_count": 5,
   "id": "57d25710",
   "metadata": {},
   "outputs": [],
   "source": [
    "df_10 = pd.read_csv('prem10.csv')"
   ]
  },
  {
   "cell_type": "code",
   "execution_count": 6,
   "id": "c356031e",
   "metadata": {},
   "outputs": [],
   "source": [
    "df_11 = pd.read_csv('prem11.csv')"
   ]
  },
  {
   "cell_type": "code",
   "execution_count": 7,
   "id": "e0d591cf",
   "metadata": {},
   "outputs": [],
   "source": [
    "df_12 = pd.read_csv('prem12.csv')"
   ]
  },
  {
   "cell_type": "code",
   "execution_count": 8,
   "id": "8129a13b",
   "metadata": {},
   "outputs": [],
   "source": [
    "df_13 = pd.read_csv('prem13.csv')"
   ]
  },
  {
   "cell_type": "code",
   "execution_count": 9,
   "id": "f9731dbd",
   "metadata": {},
   "outputs": [],
   "source": [
    "df_14 = pd.read_csv('prem14.csv')"
   ]
  },
  {
   "cell_type": "code",
   "execution_count": 10,
   "id": "e7436c01",
   "metadata": {},
   "outputs": [],
   "source": [
    "df_15 = pd.read_csv('prem15.csv')"
   ]
  },
  {
   "cell_type": "code",
   "execution_count": 11,
   "id": "fe1528d1",
   "metadata": {},
   "outputs": [],
   "source": [
    "df_16 = pd.read_csv('prem16.csv')"
   ]
  },
  {
   "cell_type": "code",
   "execution_count": 12,
   "id": "687defa1",
   "metadata": {},
   "outputs": [],
   "source": [
    "df_17 = pd.read_csv('prem17.csv')"
   ]
  },
  {
   "cell_type": "code",
   "execution_count": 13,
   "id": "209c9c0a",
   "metadata": {},
   "outputs": [],
   "source": [
    "df_18 = pd.read_csv('prem18.csv')"
   ]
  },
  {
   "cell_type": "code",
   "execution_count": 14,
   "id": "a6812716",
   "metadata": {},
   "outputs": [],
   "source": [
    "df_19 = pd.read_csv('prem19.csv')"
   ]
  },
  {
   "cell_type": "code",
   "execution_count": 15,
   "id": "83822526",
   "metadata": {},
   "outputs": [],
   "source": [
    "df_20 = pd.read_csv('prem20.csv')"
   ]
  },
  {
   "cell_type": "code",
   "execution_count": 16,
   "id": "dd3dd796",
   "metadata": {},
   "outputs": [],
   "source": [
    "df_21 = pd.read_csv('prem21.csv')"
   ]
  },
  {
   "cell_type": "code",
   "execution_count": 17,
   "id": "18c2b2c8",
   "metadata": {},
   "outputs": [],
   "source": [
    "df_22 = pd.read_csv('prem22.csv')"
   ]
  },
  {
   "cell_type": "code",
   "execution_count": 18,
   "id": "ac066fac",
   "metadata": {},
   "outputs": [],
   "source": [
    "df_23 = pd.read_csv('prem23.csv')"
   ]
  },
  {
   "cell_type": "code",
   "execution_count": 19,
   "id": "f084a0ab",
   "metadata": {},
   "outputs": [],
   "source": [
    "new_df = pd.concat([df_07, df_08, df_09, df_10, df_11, df_12, df_13, df_14, df_15, df_16, df_17, df_18, df_19, df_20, df_21, df_22, df_23])"
   ]
  },
  {
   "cell_type": "code",
   "execution_count": 20,
   "id": "cb75143b",
   "metadata": {},
   "outputs": [
    {
     "name": "stdout",
     "output_type": "stream",
     "text": [
      "The Column Header : ['Div', 'Date', 'HomeTeam', 'AwayTeam', 'FTHG', 'FTAG', 'FTR', 'HTHG', 'HTAG', 'HTR', 'Referee', 'HS', 'AS', 'HST', 'AST', 'HF', 'AF', 'HC', 'AC', 'HY', 'AY', 'HR', 'AR', 'B365H', 'B365D', 'B365A', 'BWH', 'BWD', 'BWA', 'GBH', 'GBD', 'GBA', 'IWH', 'IWD', 'IWA', 'LBH', 'LBD', 'LBA', 'SBH', 'SBD', 'SBA', 'WHH', 'WHD', 'WHA', 'SJH', 'SJD', 'SJA', 'VCH', 'VCD', 'VCA', 'Bb1X2', 'BbMxH', 'BbAvH', 'BbMxD', 'BbAvD', 'BbMxA', 'BbAvA', 'BbOU', 'BbMx>2.5', 'BbAv>2.5', 'BbMx<2.5', 'BbAv<2.5', 'BbAH', 'BbAHh', 'BbMxAHH', 'BbAvAHH', 'BbMxAHA', 'BbAvAHA', 'BSH', 'BSD', 'BSA', 'PSH', 'PSD', 'PSA', 'PSCH', 'PSCD', 'PSCA', 'Time', 'MaxH', 'MaxD', 'MaxA', 'AvgH', 'AvgD', 'AvgA', 'B365>2.5', 'B365<2.5', 'P>2.5', 'P<2.5', 'Max>2.5', 'Max<2.5', 'Avg>2.5', 'Avg<2.5', 'AHh', 'B365AHH', 'B365AHA', 'PAHH', 'PAHA', 'MaxAHH', 'MaxAHA', 'AvgAHH', 'AvgAHA', 'B365CH', 'B365CD', 'B365CA', 'BWCH', 'BWCD', 'BWCA', 'IWCH', 'IWCD', 'IWCA', 'WHCH', 'WHCD', 'WHCA', 'VCCH', 'VCCD', 'VCCA', 'MaxCH', 'MaxCD', 'MaxCA', 'AvgCH', 'AvgCD', 'AvgCA', 'B365C>2.5', 'B365C<2.5', 'PC>2.5', 'PC<2.5', 'MaxC>2.5', 'MaxC<2.5', 'AvgC>2.5', 'AvgC<2.5', 'AHCh', 'B365CAHH', 'B365CAHA', 'PCAHH', 'PCAHA', 'MaxCAHH', 'MaxCAHA', 'AvgCAHH', 'AvgCAHA']\n"
     ]
    }
   ],
   "source": [
    "column_headers = list(new_df.columns.values)\n",
    "print(\"The Column Header :\", column_headers)"
   ]
  },
  {
   "cell_type": "code",
   "execution_count": 21,
   "id": "d06c6391",
   "metadata": {},
   "outputs": [],
   "source": [
    "columns = {'HS': 'Home Shots', 'AS': 'Away Shots', 'HST':'HS on target', 'AST':'AS on target',\n",
    "          'HF':'Home Fouls', 'AF':'Away fouls', 'HC':'Home conners', 'AC': 'Away coners',\n",
    "          'HY': 'Home Yellow', 'AY': 'Away Yellow', 'HR':'Home Red', 'AR': 'Away Red'}"
   ]
  },
  {
   "cell_type": "code",
   "execution_count": 22,
   "id": "4ed17d5e",
   "metadata": {},
   "outputs": [
    {
     "data": {
      "text/html": [
       "<div>\n",
       "<style scoped>\n",
       "    .dataframe tbody tr th:only-of-type {\n",
       "        vertical-align: middle;\n",
       "    }\n",
       "\n",
       "    .dataframe tbody tr th {\n",
       "        vertical-align: top;\n",
       "    }\n",
       "\n",
       "    .dataframe thead th {\n",
       "        text-align: right;\n",
       "    }\n",
       "</style>\n",
       "<table border=\"1\" class=\"dataframe\">\n",
       "  <thead>\n",
       "    <tr style=\"text-align: right;\">\n",
       "      <th></th>\n",
       "      <th>HomeTeam</th>\n",
       "      <th>AwayTeam</th>\n",
       "      <th>Home Shots</th>\n",
       "      <th>Away Shots</th>\n",
       "      <th>HS on target</th>\n",
       "      <th>AS on target</th>\n",
       "      <th>Home Fouls</th>\n",
       "      <th>Away fouls</th>\n",
       "      <th>Home conners</th>\n",
       "      <th>Away coners</th>\n",
       "      <th>Home Yellow</th>\n",
       "      <th>Away Yellow</th>\n",
       "      <th>Home Red</th>\n",
       "      <th>Away Red</th>\n",
       "      <th>FTHG</th>\n",
       "      <th>FTAG</th>\n",
       "      <th>FTR</th>\n",
       "    </tr>\n",
       "  </thead>\n",
       "  <tbody>\n",
       "    <tr>\n",
       "      <th>0</th>\n",
       "      <td>Arsenal</td>\n",
       "      <td>Aston Villa</td>\n",
       "      <td>19</td>\n",
       "      <td>5</td>\n",
       "      <td>11</td>\n",
       "      <td>3</td>\n",
       "      <td>10</td>\n",
       "      <td>19</td>\n",
       "      <td>18</td>\n",
       "      <td>1</td>\n",
       "      <td>1</td>\n",
       "      <td>2</td>\n",
       "      <td>0</td>\n",
       "      <td>0</td>\n",
       "      <td>1</td>\n",
       "      <td>1</td>\n",
       "      <td>D</td>\n",
       "    </tr>\n",
       "    <tr>\n",
       "      <th>1</th>\n",
       "      <td>Bolton</td>\n",
       "      <td>Tottenham</td>\n",
       "      <td>8</td>\n",
       "      <td>9</td>\n",
       "      <td>6</td>\n",
       "      <td>6</td>\n",
       "      <td>19</td>\n",
       "      <td>22</td>\n",
       "      <td>6</td>\n",
       "      <td>3</td>\n",
       "      <td>0</td>\n",
       "      <td>1</td>\n",
       "      <td>0</td>\n",
       "      <td>0</td>\n",
       "      <td>2</td>\n",
       "      <td>0</td>\n",
       "      <td>H</td>\n",
       "    </tr>\n",
       "    <tr>\n",
       "      <th>2</th>\n",
       "      <td>Everton</td>\n",
       "      <td>Watford</td>\n",
       "      <td>6</td>\n",
       "      <td>12</td>\n",
       "      <td>2</td>\n",
       "      <td>8</td>\n",
       "      <td>12</td>\n",
       "      <td>13</td>\n",
       "      <td>0</td>\n",
       "      <td>6</td>\n",
       "      <td>2</td>\n",
       "      <td>2</td>\n",
       "      <td>0</td>\n",
       "      <td>0</td>\n",
       "      <td>2</td>\n",
       "      <td>1</td>\n",
       "      <td>H</td>\n",
       "    </tr>\n",
       "    <tr>\n",
       "      <th>3</th>\n",
       "      <td>Newcastle</td>\n",
       "      <td>Wigan</td>\n",
       "      <td>9</td>\n",
       "      <td>14</td>\n",
       "      <td>8</td>\n",
       "      <td>9</td>\n",
       "      <td>17</td>\n",
       "      <td>20</td>\n",
       "      <td>4</td>\n",
       "      <td>11</td>\n",
       "      <td>1</td>\n",
       "      <td>2</td>\n",
       "      <td>0</td>\n",
       "      <td>0</td>\n",
       "      <td>2</td>\n",
       "      <td>1</td>\n",
       "      <td>H</td>\n",
       "    </tr>\n",
       "    <tr>\n",
       "      <th>4</th>\n",
       "      <td>Portsmouth</td>\n",
       "      <td>Blackburn</td>\n",
       "      <td>21</td>\n",
       "      <td>9</td>\n",
       "      <td>16</td>\n",
       "      <td>7</td>\n",
       "      <td>20</td>\n",
       "      <td>17</td>\n",
       "      <td>6</td>\n",
       "      <td>2</td>\n",
       "      <td>2</td>\n",
       "      <td>1</td>\n",
       "      <td>0</td>\n",
       "      <td>2</td>\n",
       "      <td>3</td>\n",
       "      <td>0</td>\n",
       "      <td>H</td>\n",
       "    </tr>\n",
       "  </tbody>\n",
       "</table>\n",
       "</div>"
      ],
      "text/plain": [
       "     HomeTeam     AwayTeam  Home Shots  Away Shots  HS on target  \\\n",
       "0     Arsenal  Aston Villa          19           5            11   \n",
       "1      Bolton    Tottenham           8           9             6   \n",
       "2     Everton      Watford           6          12             2   \n",
       "3   Newcastle        Wigan           9          14             8   \n",
       "4  Portsmouth    Blackburn          21           9            16   \n",
       "\n",
       "   AS on target  Home Fouls  Away fouls  Home conners  Away coners  \\\n",
       "0             3          10          19            18            1   \n",
       "1             6          19          22             6            3   \n",
       "2             8          12          13             0            6   \n",
       "3             9          17          20             4           11   \n",
       "4             7          20          17             6            2   \n",
       "\n",
       "   Home Yellow  Away Yellow  Home Red  Away Red  FTHG  FTAG FTR  \n",
       "0            1            2         0         0     1     1   D  \n",
       "1            0            1         0         0     2     0   H  \n",
       "2            2            2         0         0     2     1   H  \n",
       "3            1            2         0         0     2     1   H  \n",
       "4            2            1         0         2     3     0   H  "
      ]
     },
     "execution_count": 22,
     "metadata": {},
     "output_type": "execute_result"
    }
   ],
   "source": [
    "features = new_df[['HomeTeam', 'AwayTeam','HS', 'AS', 'HST', 'AST', 'HF', 'AF', 'HC', 'AC', 'HY', 'AY', 'HR', 'AR', 'FTHG', 'FTAG','FTR' ]]\n",
    "features = features.rename(columns = columns)\n",
    "features.head()"
   ]
  },
  {
   "cell_type": "code",
   "execution_count": 23,
   "id": "42c0c5e4",
   "metadata": {},
   "outputs": [
    {
     "data": {
      "text/html": [
       "<div>\n",
       "<style scoped>\n",
       "    .dataframe tbody tr th:only-of-type {\n",
       "        vertical-align: middle;\n",
       "    }\n",
       "\n",
       "    .dataframe tbody tr th {\n",
       "        vertical-align: top;\n",
       "    }\n",
       "\n",
       "    .dataframe thead th {\n",
       "        text-align: right;\n",
       "    }\n",
       "</style>\n",
       "<table border=\"1\" class=\"dataframe\">\n",
       "  <thead>\n",
       "    <tr style=\"text-align: right;\">\n",
       "      <th></th>\n",
       "      <th>Home Shots</th>\n",
       "      <th>Away Shots</th>\n",
       "      <th>HS on target</th>\n",
       "      <th>AS on target</th>\n",
       "      <th>Home Fouls</th>\n",
       "      <th>Away fouls</th>\n",
       "      <th>Home conners</th>\n",
       "      <th>Away coners</th>\n",
       "      <th>Home Yellow</th>\n",
       "      <th>Away Yellow</th>\n",
       "      <th>Home Red</th>\n",
       "      <th>Away Red</th>\n",
       "      <th>FTHG</th>\n",
       "      <th>FTAG</th>\n",
       "    </tr>\n",
       "  </thead>\n",
       "  <tbody>\n",
       "    <tr>\n",
       "      <th>count</th>\n",
       "      <td>6157.000000</td>\n",
       "      <td>6157.000000</td>\n",
       "      <td>6157.000000</td>\n",
       "      <td>6157.000000</td>\n",
       "      <td>6157.000000</td>\n",
       "      <td>6157.000000</td>\n",
       "      <td>6157.000000</td>\n",
       "      <td>6157.000000</td>\n",
       "      <td>6157.000000</td>\n",
       "      <td>6157.000000</td>\n",
       "      <td>6157.000000</td>\n",
       "      <td>6157.000000</td>\n",
       "      <td>6157.000000</td>\n",
       "      <td>6157.000000</td>\n",
       "    </tr>\n",
       "    <tr>\n",
       "      <th>mean</th>\n",
       "      <td>13.823778</td>\n",
       "      <td>11.095988</td>\n",
       "      <td>5.923827</td>\n",
       "      <td>4.735423</td>\n",
       "      <td>10.842943</td>\n",
       "      <td>11.236479</td>\n",
       "      <td>6.000162</td>\n",
       "      <td>4.789508</td>\n",
       "      <td>1.477018</td>\n",
       "      <td>1.760435</td>\n",
       "      <td>0.059282</td>\n",
       "      <td>0.082833</td>\n",
       "      <td>1.533214</td>\n",
       "      <td>1.177522</td>\n",
       "    </tr>\n",
       "    <tr>\n",
       "      <th>std</th>\n",
       "      <td>5.445933</td>\n",
       "      <td>4.739515</td>\n",
       "      <td>3.373618</td>\n",
       "      <td>2.835368</td>\n",
       "      <td>3.547531</td>\n",
       "      <td>3.721975</td>\n",
       "      <td>3.119897</td>\n",
       "      <td>2.751195</td>\n",
       "      <td>1.198467</td>\n",
       "      <td>1.271702</td>\n",
       "      <td>0.244950</td>\n",
       "      <td>0.287196</td>\n",
       "      <td>1.319276</td>\n",
       "      <td>1.161082</td>\n",
       "    </tr>\n",
       "    <tr>\n",
       "      <th>min</th>\n",
       "      <td>0.000000</td>\n",
       "      <td>0.000000</td>\n",
       "      <td>0.000000</td>\n",
       "      <td>0.000000</td>\n",
       "      <td>0.000000</td>\n",
       "      <td>1.000000</td>\n",
       "      <td>0.000000</td>\n",
       "      <td>0.000000</td>\n",
       "      <td>0.000000</td>\n",
       "      <td>0.000000</td>\n",
       "      <td>0.000000</td>\n",
       "      <td>0.000000</td>\n",
       "      <td>0.000000</td>\n",
       "      <td>0.000000</td>\n",
       "    </tr>\n",
       "    <tr>\n",
       "      <th>25%</th>\n",
       "      <td>10.000000</td>\n",
       "      <td>8.000000</td>\n",
       "      <td>3.000000</td>\n",
       "      <td>3.000000</td>\n",
       "      <td>8.000000</td>\n",
       "      <td>9.000000</td>\n",
       "      <td>4.000000</td>\n",
       "      <td>3.000000</td>\n",
       "      <td>1.000000</td>\n",
       "      <td>1.000000</td>\n",
       "      <td>0.000000</td>\n",
       "      <td>0.000000</td>\n",
       "      <td>1.000000</td>\n",
       "      <td>0.000000</td>\n",
       "    </tr>\n",
       "    <tr>\n",
       "      <th>50%</th>\n",
       "      <td>13.000000</td>\n",
       "      <td>11.000000</td>\n",
       "      <td>5.000000</td>\n",
       "      <td>4.000000</td>\n",
       "      <td>11.000000</td>\n",
       "      <td>11.000000</td>\n",
       "      <td>6.000000</td>\n",
       "      <td>4.000000</td>\n",
       "      <td>1.000000</td>\n",
       "      <td>2.000000</td>\n",
       "      <td>0.000000</td>\n",
       "      <td>0.000000</td>\n",
       "      <td>1.000000</td>\n",
       "      <td>1.000000</td>\n",
       "    </tr>\n",
       "    <tr>\n",
       "      <th>75%</th>\n",
       "      <td>17.000000</td>\n",
       "      <td>14.000000</td>\n",
       "      <td>8.000000</td>\n",
       "      <td>6.000000</td>\n",
       "      <td>13.000000</td>\n",
       "      <td>14.000000</td>\n",
       "      <td>8.000000</td>\n",
       "      <td>6.000000</td>\n",
       "      <td>2.000000</td>\n",
       "      <td>3.000000</td>\n",
       "      <td>0.000000</td>\n",
       "      <td>0.000000</td>\n",
       "      <td>2.000000</td>\n",
       "      <td>2.000000</td>\n",
       "    </tr>\n",
       "    <tr>\n",
       "      <th>max</th>\n",
       "      <td>43.000000</td>\n",
       "      <td>31.000000</td>\n",
       "      <td>24.000000</td>\n",
       "      <td>20.000000</td>\n",
       "      <td>33.000000</td>\n",
       "      <td>26.000000</td>\n",
       "      <td>20.000000</td>\n",
       "      <td>19.000000</td>\n",
       "      <td>7.000000</td>\n",
       "      <td>9.000000</td>\n",
       "      <td>2.000000</td>\n",
       "      <td>2.000000</td>\n",
       "      <td>9.000000</td>\n",
       "      <td>9.000000</td>\n",
       "    </tr>\n",
       "  </tbody>\n",
       "</table>\n",
       "</div>"
      ],
      "text/plain": [
       "        Home Shots   Away Shots  HS on target  AS on target   Home Fouls  \\\n",
       "count  6157.000000  6157.000000   6157.000000   6157.000000  6157.000000   \n",
       "mean     13.823778    11.095988      5.923827      4.735423    10.842943   \n",
       "std       5.445933     4.739515      3.373618      2.835368     3.547531   \n",
       "min       0.000000     0.000000      0.000000      0.000000     0.000000   \n",
       "25%      10.000000     8.000000      3.000000      3.000000     8.000000   \n",
       "50%      13.000000    11.000000      5.000000      4.000000    11.000000   \n",
       "75%      17.000000    14.000000      8.000000      6.000000    13.000000   \n",
       "max      43.000000    31.000000     24.000000     20.000000    33.000000   \n",
       "\n",
       "        Away fouls  Home conners  Away coners  Home Yellow  Away Yellow  \\\n",
       "count  6157.000000   6157.000000  6157.000000  6157.000000  6157.000000   \n",
       "mean     11.236479      6.000162     4.789508     1.477018     1.760435   \n",
       "std       3.721975      3.119897     2.751195     1.198467     1.271702   \n",
       "min       1.000000      0.000000     0.000000     0.000000     0.000000   \n",
       "25%       9.000000      4.000000     3.000000     1.000000     1.000000   \n",
       "50%      11.000000      6.000000     4.000000     1.000000     2.000000   \n",
       "75%      14.000000      8.000000     6.000000     2.000000     3.000000   \n",
       "max      26.000000     20.000000    19.000000     7.000000     9.000000   \n",
       "\n",
       "          Home Red     Away Red         FTHG         FTAG  \n",
       "count  6157.000000  6157.000000  6157.000000  6157.000000  \n",
       "mean      0.059282     0.082833     1.533214     1.177522  \n",
       "std       0.244950     0.287196     1.319276     1.161082  \n",
       "min       0.000000     0.000000     0.000000     0.000000  \n",
       "25%       0.000000     0.000000     1.000000     0.000000  \n",
       "50%       0.000000     0.000000     1.000000     1.000000  \n",
       "75%       0.000000     0.000000     2.000000     2.000000  \n",
       "max       2.000000     2.000000     9.000000     9.000000  "
      ]
     },
     "execution_count": 23,
     "metadata": {},
     "output_type": "execute_result"
    }
   ],
   "source": [
    "features.describe()"
   ]
  },
  {
   "cell_type": "code",
   "execution_count": 24,
   "id": "16f54115",
   "metadata": {},
   "outputs": [
    {
     "data": {
      "image/png": "[encoded data removed]",
      "text/plain": [
       "<Figure size 3000x3000 with 16 Axes>"
      ]
     },
     "metadata": {},
     "output_type": "display_data"
    }
   ],
   "source": [
    "features.hist(bins = 30, figsize =(30, 30), color ='r')\n",
    "plt.show()"
   ]
  },
  {
   "cell_type": "code",
   "execution_count": 25,
   "id": "5e270d56",
   "metadata": {},
   "outputs": [],
   "source": [
    "home = new_df[['HomeTeam', 'AwayTeam','HS','HST', 'HF', 'HC', 'HY', 'HR', 'FTHG']]\n",
    "home = home.assign(home=1)\n",
    "home = home.rename(\n",
    "    columns={\"HomeTeam\": \"team\",\n",
    "             \"AwayTeam\": \"opponent\", \n",
    "             \"FTHG\": \"goals\",\n",
    "            'HS': 'Shots',  'HST':'target','HF':'Fouls', 'HC':'conners',\n",
    "          'HY': 'Yellow',  'HR': 'Red'}\n",
    ")\n",
    "\n",
    "# Separate away goals data \n",
    "\n",
    "# Separate home goals data\n",
    "away = new_df[['HomeTeam', 'AwayTeam','AS','AST', 'AF', 'AC', 'AY', 'AR', 'FTAG']]\n",
    "away = away.assign(home=0)\n",
    "away = away.rename(\n",
    "    columns={\"AwayTeam\": \"team\",\n",
    "             \"HomeTeam\": \"opponent\", \n",
    "             \"FTAG\": \"goals\", 'AS':  'Shots',  'AST':'target','AF':'Fouls', 'AC':'conners',\n",
    "          'AY': 'Yellow',  'AR': 'Red'})"
   ]
  },
  {
   "cell_type": "code",
   "execution_count": 26,
   "id": "9a1ae04a",
   "metadata": {},
   "outputs": [
    {
     "data": {
      "text/html": [
       "<div>\n",
       "<style scoped>\n",
       "    .dataframe tbody tr th:only-of-type {\n",
       "        vertical-align: middle;\n",
       "    }\n",
       "\n",
       "    .dataframe tbody tr th {\n",
       "        vertical-align: top;\n",
       "    }\n",
       "\n",
       "    .dataframe thead th {\n",
       "        text-align: right;\n",
       "    }\n",
       "</style>\n",
       "<table border=\"1\" class=\"dataframe\">\n",
       "  <thead>\n",
       "    <tr style=\"text-align: right;\">\n",
       "      <th></th>\n",
       "      <th>opponent</th>\n",
       "      <th>team</th>\n",
       "      <th>Shots</th>\n",
       "      <th>target</th>\n",
       "      <th>Fouls</th>\n",
       "      <th>conners</th>\n",
       "      <th>Yellow</th>\n",
       "      <th>Red</th>\n",
       "      <th>goals</th>\n",
       "      <th>home</th>\n",
       "    </tr>\n",
       "  </thead>\n",
       "  <tbody>\n",
       "    <tr>\n",
       "      <th>0</th>\n",
       "      <td>Arsenal</td>\n",
       "      <td>Aston Villa</td>\n",
       "      <td>5</td>\n",
       "      <td>3</td>\n",
       "      <td>19</td>\n",
       "      <td>1</td>\n",
       "      <td>2</td>\n",
       "      <td>0</td>\n",
       "      <td>1</td>\n",
       "      <td>0</td>\n",
       "    </tr>\n",
       "    <tr>\n",
       "      <th>1</th>\n",
       "      <td>Bolton</td>\n",
       "      <td>Tottenham</td>\n",
       "      <td>9</td>\n",
       "      <td>6</td>\n",
       "      <td>22</td>\n",
       "      <td>3</td>\n",
       "      <td>1</td>\n",
       "      <td>0</td>\n",
       "      <td>0</td>\n",
       "      <td>0</td>\n",
       "    </tr>\n",
       "    <tr>\n",
       "      <th>2</th>\n",
       "      <td>Everton</td>\n",
       "      <td>Watford</td>\n",
       "      <td>12</td>\n",
       "      <td>8</td>\n",
       "      <td>13</td>\n",
       "      <td>6</td>\n",
       "      <td>2</td>\n",
       "      <td>0</td>\n",
       "      <td>1</td>\n",
       "      <td>0</td>\n",
       "    </tr>\n",
       "    <tr>\n",
       "      <th>3</th>\n",
       "      <td>Newcastle</td>\n",
       "      <td>Wigan</td>\n",
       "      <td>14</td>\n",
       "      <td>9</td>\n",
       "      <td>20</td>\n",
       "      <td>11</td>\n",
       "      <td>2</td>\n",
       "      <td>0</td>\n",
       "      <td>1</td>\n",
       "      <td>0</td>\n",
       "    </tr>\n",
       "    <tr>\n",
       "      <th>4</th>\n",
       "      <td>Portsmouth</td>\n",
       "      <td>Blackburn</td>\n",
       "      <td>9</td>\n",
       "      <td>7</td>\n",
       "      <td>17</td>\n",
       "      <td>2</td>\n",
       "      <td>1</td>\n",
       "      <td>2</td>\n",
       "      <td>0</td>\n",
       "      <td>0</td>\n",
       "    </tr>\n",
       "  </tbody>\n",
       "</table>\n",
       "</div>"
      ],
      "text/plain": [
       "     opponent         team  Shots  target  Fouls  conners  Yellow  Red  goals  \\\n",
       "0     Arsenal  Aston Villa      5       3     19        1       2    0      1   \n",
       "1      Bolton    Tottenham      9       6     22        3       1    0      0   \n",
       "2     Everton      Watford     12       8     13        6       2    0      1   \n",
       "3   Newcastle        Wigan     14       9     20       11       2    0      1   \n",
       "4  Portsmouth    Blackburn      9       7     17        2       1    2      0   \n",
       "\n",
       "   home  \n",
       "0     0  \n",
       "1     0  \n",
       "2     0  \n",
       "3     0  \n",
       "4     0  "
      ]
     },
     "execution_count": 26,
     "metadata": {},
     "output_type": "execute_result"
    }
   ],
   "source": [
    "away.head()"
   ]
  },
  {
   "cell_type": "code",
   "execution_count": 27,
   "id": "09819065",
   "metadata": {},
   "outputs": [
    {
     "data": {
      "text/html": [
       "<div>\n",
       "<style scoped>\n",
       "    .dataframe tbody tr th:only-of-type {\n",
       "        vertical-align: middle;\n",
       "    }\n",
       "\n",
       "    .dataframe tbody tr th {\n",
       "        vertical-align: top;\n",
       "    }\n",
       "\n",
       "    .dataframe thead th {\n",
       "        text-align: right;\n",
       "    }\n",
       "</style>\n",
       "<table border=\"1\" class=\"dataframe\">\n",
       "  <thead>\n",
       "    <tr style=\"text-align: right;\">\n",
       "      <th></th>\n",
       "      <th>team</th>\n",
       "      <th>opponent</th>\n",
       "      <th>Shots</th>\n",
       "      <th>target</th>\n",
       "      <th>Fouls</th>\n",
       "      <th>conners</th>\n",
       "      <th>Yellow</th>\n",
       "      <th>Red</th>\n",
       "      <th>goals</th>\n",
       "      <th>home</th>\n",
       "    </tr>\n",
       "  </thead>\n",
       "  <tbody>\n",
       "    <tr>\n",
       "      <th>0</th>\n",
       "      <td>Arsenal</td>\n",
       "      <td>Aston Villa</td>\n",
       "      <td>19</td>\n",
       "      <td>11</td>\n",
       "      <td>10</td>\n",
       "      <td>18</td>\n",
       "      <td>1</td>\n",
       "      <td>0</td>\n",
       "      <td>1</td>\n",
       "      <td>1</td>\n",
       "    </tr>\n",
       "    <tr>\n",
       "      <th>1</th>\n",
       "      <td>Bolton</td>\n",
       "      <td>Tottenham</td>\n",
       "      <td>8</td>\n",
       "      <td>6</td>\n",
       "      <td>19</td>\n",
       "      <td>6</td>\n",
       "      <td>0</td>\n",
       "      <td>0</td>\n",
       "      <td>2</td>\n",
       "      <td>1</td>\n",
       "    </tr>\n",
       "    <tr>\n",
       "      <th>2</th>\n",
       "      <td>Everton</td>\n",
       "      <td>Watford</td>\n",
       "      <td>6</td>\n",
       "      <td>2</td>\n",
       "      <td>12</td>\n",
       "      <td>0</td>\n",
       "      <td>2</td>\n",
       "      <td>0</td>\n",
       "      <td>2</td>\n",
       "      <td>1</td>\n",
       "    </tr>\n",
       "    <tr>\n",
       "      <th>3</th>\n",
       "      <td>Newcastle</td>\n",
       "      <td>Wigan</td>\n",
       "      <td>9</td>\n",
       "      <td>8</td>\n",
       "      <td>17</td>\n",
       "      <td>4</td>\n",
       "      <td>1</td>\n",
       "      <td>0</td>\n",
       "      <td>2</td>\n",
       "      <td>1</td>\n",
       "    </tr>\n",
       "    <tr>\n",
       "      <th>4</th>\n",
       "      <td>Portsmouth</td>\n",
       "      <td>Blackburn</td>\n",
       "      <td>21</td>\n",
       "      <td>16</td>\n",
       "      <td>20</td>\n",
       "      <td>6</td>\n",
       "      <td>2</td>\n",
       "      <td>0</td>\n",
       "      <td>3</td>\n",
       "      <td>1</td>\n",
       "    </tr>\n",
       "  </tbody>\n",
       "</table>\n",
       "</div>"
      ],
      "text/plain": [
       "         team     opponent  Shots  target  Fouls  conners  Yellow  Red  goals  \\\n",
       "0     Arsenal  Aston Villa     19      11     10       18       1    0      1   \n",
       "1      Bolton    Tottenham      8       6     19        6       0    0      2   \n",
       "2     Everton      Watford      6       2     12        0       2    0      2   \n",
       "3   Newcastle        Wigan      9       8     17        4       1    0      2   \n",
       "4  Portsmouth    Blackburn     21      16     20        6       2    0      3   \n",
       "\n",
       "   home  \n",
       "0     1  \n",
       "1     1  \n",
       "2     1  \n",
       "3     1  \n",
       "4     1  "
      ]
     },
     "execution_count": 27,
     "metadata": {},
     "output_type": "execute_result"
    }
   ],
   "source": [
    "home.head()"
   ]
  },
  {
   "cell_type": "code",
   "execution_count": 28,
   "id": "49b4c4d2",
   "metadata": {
    "scrolled": true
   },
   "outputs": [],
   "source": [
    "df = pd.concat([home, away])\n",
    "df_1 = df.copy()"
   ]
  },
  {
   "cell_type": "code",
   "execution_count": 29,
   "id": "ce9d561c",
   "metadata": {},
   "outputs": [
    {
     "data": {
      "text/plain": [
       "Arsenal             616\n",
       "Everton             616\n",
       "Tottenham           616\n",
       "Man City            616\n",
       "Chelsea             615\n",
       "Man United          615\n",
       "Liverpool           615\n",
       "West Ham            578\n",
       "Newcastle           540\n",
       "Aston Villa         502\n",
       "Fulham              388\n",
       "Southampton         388\n",
       "West Brom           380\n",
       "Stoke               380\n",
       "Sunderland          380\n",
       "Crystal Palace      349\n",
       "Leicester           312\n",
       "Burnley             304\n",
       "Wolves              274\n",
       "Watford             266\n",
       "Wigan               266\n",
       "Swansea             266\n",
       "Norwich             228\n",
       "Bolton              228\n",
       "Blackburn           228\n",
       "Bournemouth         198\n",
       "Brighton            197\n",
       "Hull                190\n",
       "Portsmouth          152\n",
       "Middlesbrough       152\n",
       "Sheffield United    114\n",
       "QPR                 114\n",
       "Birmingham          114\n",
       "Reading             114\n",
       "Leeds                83\n",
       "Huddersfield         76\n",
       "Cardiff              76\n",
       "Brentford            46\n",
       "Charlton             38\n",
       "Blackpool            38\n",
       "Derby                38\n",
       "Nott'm Forest         8\n",
       "Name: team, dtype: int64"
      ]
     },
     "execution_count": 29,
     "metadata": {},
     "output_type": "execute_result"
    }
   ],
   "source": [
    "df_1['team'].value_counts()"
   ]
  },
  {
   "cell_type": "code",
   "execution_count": 30,
   "id": "1ff52cd1",
   "metadata": {},
   "outputs": [
    {
     "data": {
      "text/plain": [
       "array([[<AxesSubplot:title={'center':'Shots'}>,\n",
       "        <AxesSubplot:title={'center':'target'}>,\n",
       "        <AxesSubplot:title={'center':'Fouls'}>],\n",
       "       [<AxesSubplot:title={'center':'conners'}>,\n",
       "        <AxesSubplot:title={'center':'Yellow'}>,\n",
       "        <AxesSubplot:title={'center':'Red'}>],\n",
       "       [<AxesSubplot:title={'center':'goals'}>,\n",
       "        <AxesSubplot:title={'center':'home'}>, <AxesSubplot:>]],\n",
       "      dtype=object)"
      ]
     },
     "execution_count": 30,
     "metadata": {},
     "output_type": "execute_result"
    },
    {
     "data": {
      "image/png": "[encoded data removed]",
      "text/plain": [
       "<Figure size 2000x2000 with 9 Axes>"
      ]
     },
     "metadata": {},
     "output_type": "display_data"
    }
   ],
   "source": [
    "df.hist(bins=20, figsize=(20,20), color='b')"
   ]
  },
  {
   "cell_type": "code",
   "execution_count": 31,
   "id": "b0057dca",
   "metadata": {},
   "outputs": [
    {
     "data": {
      "text/plain": [
       "5.394835146987169"
      ]
     },
     "execution_count": 31,
     "metadata": {},
     "output_type": "execute_result"
    }
   ],
   "source": [
    "df['conners'].mean()"
   ]
  },
  {
   "cell_type": "code",
   "execution_count": 32,
   "id": "254eb3a6",
   "metadata": {},
   "outputs": [
    {
     "name": "stdout",
     "output_type": "stream",
     "text": [
      "k-value 0 has probability = 0.00454\n",
      "k-value 1 has probability = 0.02449\n",
      "k-value 2 has probability = 0.06607\n",
      "k-value 3 has probability = 0.11881\n",
      "k-value 4 has probability = 0.16023\n",
      "k-value 5 has probability = 0.17289\n",
      "k-value 6 has probability = 0.15545\n",
      "k-value 7 has probability = 0.1198\n",
      "k-value 8 has probability = 0.08079\n",
      "k-value 9 has probability = 0.04843\n",
      "k-value 10 has probability = 0.02613\n",
      "k-value 11 has probability = 0.01281\n",
      "k-value 12 has probability = 0.00576\n",
      "k-value 13 has probability = 0.00239\n",
      "k-value 14 has probability = 0.00092\n",
      "k-value 15 has probability = 0.00033\n",
      "k-value 16 has probability = 0.00011\n",
      "k-value 17 has probability = 4e-05\n",
      "k-value 18 has probability = 1e-05\n",
      "k-value 19 has probability = 0.0\n",
      "k-value 20 has probability = 0.0\n"
     ]
    }
   ],
   "source": [
    "from scipy.stats import poisson\n",
    "\n",
    "lamConners = df['conners'].mean()\n",
    "k = np.arange(0,21)\n",
    "pmf = poisson.pmf(k, mu = lamConners)\n",
    "pmf = np.round(pmf, 5)\n",
    "for val, prob in zip(k,pmf):\n",
    "    print(f\"k-value {val} has probability = {prob}\")"
   ]
  },
  {
   "cell_type": "code",
   "execution_count": 33,
   "id": "40e63fd4",
   "metadata": {},
   "outputs": [
    {
     "data": {
      "text/plain": [
       "12314"
      ]
     },
     "execution_count": 33,
     "metadata": {},
     "output_type": "execute_result"
    }
   ],
   "source": [
    "df['conners'].count()"
   ]
  },
  {
   "cell_type": "code",
   "execution_count": 34,
   "id": "502a7b1e",
   "metadata": {},
   "outputs": [
    {
     "name": "stdout",
     "output_type": "stream",
     "text": [
      "[5.520600e+01 2.977980e+02 8.034110e+02 1.444730e+03 1.948397e+03\n",
      " 2.102342e+03 1.890272e+03 1.456768e+03 9.824060e+02 5.889090e+02\n",
      " 3.177410e+02 1.557700e+02 7.004200e+01 2.906200e+01 1.118700e+01\n",
      " 4.013000e+00 1.338000e+00 4.860000e-01 1.220000e-01 0.000000e+00\n",
      " 0.000000e+00]\n"
     ]
    }
   ],
   "source": [
    "expected =[]\n",
    "for prob in pmf:\n",
    "    expected.append(prob*12160)\n",
    "ex = np.round(expected, 3)\n",
    "print(ex)"
   ]
  },
  {
   "cell_type": "code",
   "execution_count": 35,
   "id": "573be517",
   "metadata": {},
   "outputs": [
    {
     "data": {
      "image/png": "[encoded data removed]",
      "text/plain": [
       "<Figure size 1000x600 with 1 Axes>"
      ]
     },
     "metadata": {},
     "output_type": "display_data"
    }
   ],
   "source": [
    "count, bin_edges = np.histogram(df['conners'], 20)\n",
    "\n",
    "df['conners'].plot(kind='hist',\n",
    "                         figsize=(10,6),\n",
    "                         bins = 20,\n",
    "                        alpha=0.6,\n",
    "          xticks=bin_edges,\n",
    "          color=['mediumseagreen']\n",
    "         )\n",
    "plt.plot(k, ex, marker='o')\n",
    "plt.xlabel('number of conners')\n",
    "plt.ylabel('frequency of connners')\n",
    "plt.title('conners distribution')\n",
    "plt.show()"
   ]
  },
  {
   "cell_type": "code",
   "execution_count": 36,
   "id": "d95203f3",
   "metadata": {},
   "outputs": [],
   "source": [
    "x = np.random.poisson(lamConners, 1000000)"
   ]
  },
  {
   "cell_type": "code",
   "execution_count": 37,
   "id": "c5b08759",
   "metadata": {},
   "outputs": [
    {
     "data": {
      "image/png": "[encoded data removed]",
      "text/plain": [
       "<Figure size 640x480 with 1 Axes>"
      ]
     },
     "metadata": {},
     "output_type": "display_data"
    }
   ],
   "source": [
    "plt.hist(df['conners'], density=True, alpha=0.6 )\n",
    "plt.hist(x, 20, density=True, alpha=0.6)\n",
    "\n",
    "\n",
    "plt.xlabel('number of conners')\n",
    "plt.ylabel('frequency of connners')\n",
    "plt.title('conners distribution')\n",
    "plt.show()\n",
    "plt.show()"
   ]
  },
  {
   "cell_type": "code",
   "execution_count": 38,
   "id": "6bb8b4fc",
   "metadata": {},
   "outputs": [],
   "source": [
    "poisson_shots = smf.glm(\n",
    "    formula=\" Shots ~ home + team + opponent\",\n",
    "    data=df,\n",
    "    family=sm.families.Poisson() \n",
    ").fit()"
   ]
  },
  {
   "cell_type": "code",
   "execution_count": 39,
   "id": "95ad5a69",
   "metadata": {},
   "outputs": [],
   "source": [
    "poisson_conners = smf.glm(\n",
    "    formula=\" conners ~ home + team + opponent\",\n",
    "    data=df,\n",
    "    family=sm.families.Poisson() \n",
    ").fit()"
   ]
  },
  {
   "cell_type": "code",
   "execution_count": 40,
   "id": "dc2431c2",
   "metadata": {},
   "outputs": [],
   "source": [
    "poisson_yellow = smf.glm(\n",
    "    formula=\" Yellow ~ home + team + opponent\",\n",
    "    data=df,\n",
    "    family=sm.families.Poisson() \n",
    ").fit()"
   ]
  },
  {
   "cell_type": "code",
   "execution_count": 41,
   "id": "04791b5f",
   "metadata": {},
   "outputs": [],
   "source": [
    "poisson_target = smf.glm(\n",
    "    formula=\" target ~ home + team + opponent\",\n",
    "    data=df,\n",
    "    family=sm.families.Poisson() \n",
    ").fit()"
   ]
  },
  {
   "cell_type": "code",
   "execution_count": 42,
   "id": "9b07fb5f",
   "metadata": {},
   "outputs": [],
   "source": [
    "poisson_fouls = smf.glm(\n",
    "    formula=\" Fouls ~ home + team + opponent\",\n",
    "    data=df,\n",
    "    family=sm.families.Poisson() \n",
    ").fit()"
   ]
  },
  {
   "cell_type": "code",
   "execution_count": 43,
   "id": "aa606ec5",
   "metadata": {},
   "outputs": [],
   "source": [
    "poisson_red = smf.glm(\n",
    "    formula=\" Red ~ home + team + opponent\",\n",
    "    data=df,\n",
    "    family=sm.families.Poisson() \n",
    ").fit()"
   ]
  },
  {
   "cell_type": "code",
   "execution_count": 44,
   "id": "54b0987d",
   "metadata": {},
   "outputs": [],
   "source": [
    "def game(home_team, away_team):\n",
    "    home_t = pd.DataFrame(data={\"team\": home_team,\n",
    "                                \"opponent\": away_team,\n",
    "                                \"home\": 1\n",
    "                                }, index=[1])\n",
    "    \n",
    "    away_t = pd.DataFrame(data={\"team\": away_team,\n",
    "                                \"opponent\": home_team,\n",
    "                                \"home\": 0\n",
    "                                }, index=[1])\n",
    "    \n",
    "    return home_t, away_t\n"
   ]
  },
  {
   "cell_type": "code",
   "execution_count": 45,
   "id": "1daa3719",
   "metadata": {},
   "outputs": [],
   "source": [
    "def conners(home_t, away_t, model):\n",
    "            home_con = model.predict(home_t)\n",
    "            away_con = model.predict(away_t)\n",
    "            return home_con, away_con"
   ]
  },
  {
   "cell_type": "code",
   "execution_count": 46,
   "id": "6c341441",
   "metadata": {},
   "outputs": [],
   "source": [
    "def shots(home_t, away_t, model):\n",
    "            home_shots = model.predict(home_t)\n",
    "            away_shots = model.predict(away_t)\n",
    "            return home_shots, away_shots\n"
   ]
  },
  {
   "cell_type": "code",
   "execution_count": 47,
   "id": "7cedcabb",
   "metadata": {},
   "outputs": [],
   "source": [
    "def target(home_t, away_t, model):\n",
    "            home_tar = model.predict(home_t)\n",
    "            away_tar = model.predict(away_t)\n",
    "            return home_tar, away_tar"
   ]
  },
  {
   "cell_type": "code",
   "execution_count": 48,
   "id": "311661db",
   "metadata": {},
   "outputs": [],
   "source": [
    "def fouls(home_t, away_t, model):\n",
    "            home_f = model.predict(home_t)\n",
    "            away_f = model.predict(away_t)\n",
    "            return home_f, away_f"
   ]
  },
  {
   "cell_type": "code",
   "execution_count": 49,
   "id": "bdae6346",
   "metadata": {},
   "outputs": [],
   "source": [
    "def yellow(home_t, away_t, model):\n",
    "            home_yel = model.predict(home_t)\n",
    "            away_yel = model.predict(away_t)\n",
    "            return home_yel, away_yel"
   ]
  },
  {
   "cell_type": "code",
   "execution_count": 50,
   "id": "79fd3a11",
   "metadata": {},
   "outputs": [],
   "source": [
    "def red(home_t, away_t, model):\n",
    "            home_red = model.predict(home_t)\n",
    "            away_red = model.predict(away_t)\n",
    "            return home_red, away_red"
   ]
  },
  {
   "cell_type": "code",
   "execution_count": 51,
   "id": "ccbceb50",
   "metadata": {},
   "outputs": [
    {
     "data": {
      "text/html": [
       "<div>\n",
       "<style scoped>\n",
       "    .dataframe tbody tr th:only-of-type {\n",
       "        vertical-align: middle;\n",
       "    }\n",
       "\n",
       "    .dataframe tbody tr th {\n",
       "        vertical-align: top;\n",
       "    }\n",
       "\n",
       "    .dataframe thead th {\n",
       "        text-align: right;\n",
       "    }\n",
       "</style>\n",
       "<table border=\"1\" class=\"dataframe\">\n",
       "  <thead>\n",
       "    <tr style=\"text-align: right;\">\n",
       "      <th></th>\n",
       "      <th>Shots</th>\n",
       "      <th>target</th>\n",
       "      <th>Fouls</th>\n",
       "      <th>conners</th>\n",
       "      <th>Yellow</th>\n",
       "      <th>Red</th>\n",
       "      <th>home</th>\n",
       "    </tr>\n",
       "  </thead>\n",
       "  <tbody>\n",
       "    <tr>\n",
       "      <th>0</th>\n",
       "      <td>19</td>\n",
       "      <td>11</td>\n",
       "      <td>10</td>\n",
       "      <td>18</td>\n",
       "      <td>1</td>\n",
       "      <td>0</td>\n",
       "      <td>1</td>\n",
       "    </tr>\n",
       "    <tr>\n",
       "      <th>1</th>\n",
       "      <td>8</td>\n",
       "      <td>6</td>\n",
       "      <td>19</td>\n",
       "      <td>6</td>\n",
       "      <td>0</td>\n",
       "      <td>0</td>\n",
       "      <td>1</td>\n",
       "    </tr>\n",
       "    <tr>\n",
       "      <th>2</th>\n",
       "      <td>6</td>\n",
       "      <td>2</td>\n",
       "      <td>12</td>\n",
       "      <td>0</td>\n",
       "      <td>2</td>\n",
       "      <td>0</td>\n",
       "      <td>1</td>\n",
       "    </tr>\n",
       "    <tr>\n",
       "      <th>3</th>\n",
       "      <td>9</td>\n",
       "      <td>8</td>\n",
       "      <td>17</td>\n",
       "      <td>4</td>\n",
       "      <td>1</td>\n",
       "      <td>0</td>\n",
       "      <td>1</td>\n",
       "    </tr>\n",
       "    <tr>\n",
       "      <th>4</th>\n",
       "      <td>21</td>\n",
       "      <td>16</td>\n",
       "      <td>20</td>\n",
       "      <td>6</td>\n",
       "      <td>2</td>\n",
       "      <td>0</td>\n",
       "      <td>1</td>\n",
       "    </tr>\n",
       "  </tbody>\n",
       "</table>\n",
       "</div>"
      ],
      "text/plain": [
       "   Shots  target  Fouls  conners  Yellow  Red  home\n",
       "0     19      11     10       18       1    0     1\n",
       "1      8       6     19        6       0    0     1\n",
       "2      6       2     12        0       2    0     1\n",
       "3      9       8     17        4       1    0     1\n",
       "4     21      16     20        6       2    0     1"
      ]
     },
     "execution_count": 51,
     "metadata": {},
     "output_type": "execute_result"
    }
   ],
   "source": [
    "df_goals = df.drop(columns=['goals','team', 'opponent'])\n",
    "df_goals_target = df['goals']\n",
    "df_goals.head()"
   ]
  },
  {
   "cell_type": "code",
   "execution_count": 52,
   "id": "8889ea09",
   "metadata": {},
   "outputs": [
    {
     "data": {
      "text/plain": [
       "(12314, 7)"
      ]
     },
     "execution_count": 52,
     "metadata": {},
     "output_type": "execute_result"
    }
   ],
   "source": [
    "df_goals.shape"
   ]
  },
  {
   "cell_type": "code",
   "execution_count": 53,
   "id": "67786111",
   "metadata": {},
   "outputs": [
    {
     "data": {
      "text/plain": [
       "(12314,)"
      ]
     },
     "execution_count": 53,
     "metadata": {},
     "output_type": "execute_result"
    }
   ],
   "source": [
    "df_goals_target.shape"
   ]
  },
  {
   "cell_type": "code",
   "execution_count": 54,
   "id": "7a072c7c",
   "metadata": {},
   "outputs": [],
   "source": [
    "df_goals = np.array(df_goals)\n",
    "df_goals_target = np.array(df_goals_target)"
   ]
  },
  {
   "cell_type": "code",
   "execution_count": 55,
   "id": "0b041c49",
   "metadata": {},
   "outputs": [
    {
     "data": {
      "text/plain": [
       "(12314, 1)"
      ]
     },
     "execution_count": 55,
     "metadata": {},
     "output_type": "execute_result"
    }
   ],
   "source": [
    "df_goals_target = df_goals_target.reshape(-1,1)\n",
    "df_goals_target.shape"
   ]
  },
  {
   "cell_type": "code",
   "execution_count": 56,
   "id": "e084945b",
   "metadata": {},
   "outputs": [],
   "source": [
    "from sklearn.preprocessing import StandardScaler, MinMaxScaler\n",
    "scaler_x = MinMaxScaler()\n",
    "X = scaler_x.fit_transform(df_goals)\n",
    "scaler_y = MinMaxScaler()\n",
    "y = scaler_y.fit_transform(df_goals_target)\n"
   ]
  },
  {
   "cell_type": "code",
   "execution_count": 57,
   "id": "11a0edb0",
   "metadata": {},
   "outputs": [],
   "source": [
    "from sklearn.model_selection import train_test_split\n",
    "x_train, x_test, y_train, y_test = train_test_split(X, y, test_size = 0.2)"
   ]
  },
  {
   "cell_type": "code",
   "execution_count": 58,
   "id": "35d4282a",
   "metadata": {},
   "outputs": [
    {
     "data": {
      "text/plain": [
       "(9851, 7)"
      ]
     },
     "execution_count": 58,
     "metadata": {},
     "output_type": "execute_result"
    }
   ],
   "source": [
    "x_train.shape"
   ]
  },
  {
   "cell_type": "code",
   "execution_count": 59,
   "id": "22cd7b06",
   "metadata": {},
   "outputs": [
    {
     "data": {
      "text/plain": [
       "(2463, 1)"
      ]
     },
     "execution_count": 59,
     "metadata": {},
     "output_type": "execute_result"
    }
   ],
   "source": [
    "y_test.shape"
   ]
  },
  {
   "cell_type": "code",
   "execution_count": 60,
   "id": "bd0c6d8f",
   "metadata": {},
   "outputs": [
    {
     "name": "stdout",
     "output_type": "stream",
     "text": [
      "Model: \"sequential\"\n",
      "_________________________________________________________________\n",
      " Layer (type)                Output Shape              Param #   \n",
      "=================================================================\n",
      " dense (Dense)               (None, 25)                200       \n",
      "                                                                 \n",
      " dense_1 (Dense)             (None, 50)                1300      \n",
      "                                                                 \n",
      " dropout (Dropout)           (None, 50)                0         \n",
      "                                                                 \n",
      " dense_2 (Dense)             (None, 100)               5100      \n",
      "                                                                 \n",
      " dropout_1 (Dropout)         (None, 100)               0         \n",
      "                                                                 \n",
      " dense_3 (Dense)             (None, 100)               10100     \n",
      "                                                                 \n",
      " dropout_2 (Dropout)         (None, 100)               0         \n",
      "                                                                 \n",
      " dense_4 (Dense)             (None, 50)                5050      \n",
      "                                                                 \n",
      " dropout_3 (Dropout)         (None, 50)                0         \n",
      "                                                                 \n",
      " dense_5 (Dense)             (None, 1)                 51        \n",
      "                                                                 \n",
      "=================================================================\n",
      "Total params: 21,801\n",
      "Trainable params: 21,801\n",
      "Non-trainable params: 0\n",
      "_________________________________________________________________\n"
     ]
    }
   ],
   "source": [
    "import tensorflow as tf\n",
    "from tensorflow import keras\n",
    "from tensorflow.keras.layers import Dense, Activation, Dropout\n",
    "from tensorflow.keras.optimizers import Adam\n",
    "\n",
    "optimizer = Adam(learning_rate=0.001, beta_1 = 0.9, beta_2 = 0.999, epsilon = 1e-07, amsgrad = False)\n",
    "ANN_model = keras.Sequential()\n",
    "ANN_model.add (Dense (25, input_dim = 7, kernel_initializer='normal',activation='relu'))\n",
    "ANN_model.add (Dense (50, activation = 'relu'))\n",
    "ANN_model.add (Dropout (0.5))\n",
    "ANN_model.add (Dense (100, activation ='relu'))\n",
    "ANN_model.add (Dropout (0.5))\n",
    "ANN_model.add (Dense (100, activation = 'relu'))\n",
    "ANN_model.add (Dropout (0.5))\n",
    "ANN_model.add (Dense (50, activation = 'relu'))\n",
    "ANN_model.add (Dropout (0.5))\n",
    "ANN_model.add(Dense(1))\n",
    "ANN_model.compile(loss='mse', optimizer='adam')\n",
    "ANN_model.summary()\n"
   ]
  },
  {
   "cell_type": "code",
   "execution_count": 61,
   "id": "427772b3",
   "metadata": {},
   "outputs": [
    {
     "name": "stdout",
     "output_type": "stream",
     "text": [
      "Epoch 1/100\n",
      "308/308 [==============================] - 4s 5ms/step - loss: 0.0193 - val_loss: 0.0160\n",
      "Epoch 2/100\n",
      "308/308 [==============================] - 1s 4ms/step - loss: 0.0174 - val_loss: 0.0161\n",
      "Epoch 3/100\n",
      "308/308 [==============================] - 1s 4ms/step - loss: 0.0168 - val_loss: 0.0157\n",
      "Epoch 4/100\n",
      "308/308 [==============================] - 1s 4ms/step - loss: 0.0168 - val_loss: 0.0162\n",
      "Epoch 5/100\n",
      "308/308 [==============================] - 1s 4ms/step - loss: 0.0165 - val_loss: 0.0153\n",
      "Epoch 6/100\n",
      "308/308 [==============================] - 1s 4ms/step - loss: 0.0163 - val_loss: 0.0156\n",
      "Epoch 7/100\n",
      "308/308 [==============================] - 1s 4ms/step - loss: 0.0160 - val_loss: 0.0147\n",
      "Epoch 8/100\n",
      "308/308 [==============================] - 1s 4ms/step - loss: 0.0159 - val_loss: 0.0149\n",
      "Epoch 9/100\n",
      "308/308 [==============================] - 1s 4ms/step - loss: 0.0160 - val_loss: 0.0150\n",
      "Epoch 10/100\n",
      "308/308 [==============================] - 1s 4ms/step - loss: 0.0158 - val_loss: 0.0149\n",
      "Epoch 11/100\n",
      "308/308 [==============================] - 1s 4ms/step - loss: 0.0158 - val_loss: 0.0148\n",
      "Epoch 12/100\n",
      "308/308 [==============================] - 1s 4ms/step - loss: 0.0157 - val_loss: 0.0148\n",
      "Epoch 13/100\n",
      "308/308 [==============================] - 1s 4ms/step - loss: 0.0156 - val_loss: 0.0149\n",
      "Epoch 14/100\n",
      "308/308 [==============================] - 1s 4ms/step - loss: 0.0156 - val_loss: 0.0145\n",
      "Epoch 15/100\n",
      "308/308 [==============================] - 1s 4ms/step - loss: 0.0156 - val_loss: 0.0150\n",
      "Epoch 16/100\n",
      "308/308 [==============================] - 1s 4ms/step - loss: 0.0157 - val_loss: 0.0145\n",
      "Epoch 17/100\n",
      "308/308 [==============================] - 1s 4ms/step - loss: 0.0156 - val_loss: 0.0146\n",
      "Epoch 18/100\n",
      "308/308 [==============================] - 1s 4ms/step - loss: 0.0156 - val_loss: 0.0145\n",
      "Epoch 19/100\n",
      "308/308 [==============================] - 1s 4ms/step - loss: 0.0157 - val_loss: 0.0146\n",
      "Epoch 20/100\n",
      "308/308 [==============================] - 1s 4ms/step - loss: 0.0155 - val_loss: 0.0148\n",
      "Epoch 21/100\n",
      "308/308 [==============================] - 1s 4ms/step - loss: 0.0156 - val_loss: 0.0147\n",
      "Epoch 22/100\n",
      "308/308 [==============================] - 1s 4ms/step - loss: 0.0155 - val_loss: 0.0147\n",
      "Epoch 23/100\n",
      "308/308 [==============================] - 1s 4ms/step - loss: 0.0155 - val_loss: 0.0147\n",
      "Epoch 24/100\n",
      "308/308 [==============================] - 1s 4ms/step - loss: 0.0155 - val_loss: 0.0145\n",
      "Epoch 25/100\n",
      "308/308 [==============================] - 1s 4ms/step - loss: 0.0156 - val_loss: 0.0149\n",
      "Epoch 26/100\n",
      "308/308 [==============================] - 1s 4ms/step - loss: 0.0155 - val_loss: 0.0150\n",
      "Epoch 27/100\n",
      "308/308 [==============================] - 1s 4ms/step - loss: 0.0154 - val_loss: 0.0144\n",
      "Epoch 28/100\n",
      "308/308 [==============================] - 1s 4ms/step - loss: 0.0155 - val_loss: 0.0142\n",
      "Epoch 29/100\n",
      "308/308 [==============================] - 1s 4ms/step - loss: 0.0155 - val_loss: 0.0144\n",
      "Epoch 30/100\n",
      "308/308 [==============================] - 1s 4ms/step - loss: 0.0155 - val_loss: 0.0147\n",
      "Epoch 31/100\n",
      "308/308 [==============================] - 1s 4ms/step - loss: 0.0154 - val_loss: 0.0144\n",
      "Epoch 32/100\n",
      "308/308 [==============================] - 1s 4ms/step - loss: 0.0154 - val_loss: 0.0144\n",
      "Epoch 33/100\n",
      "308/308 [==============================] - 1s 4ms/step - loss: 0.0154 - val_loss: 0.0147\n",
      "Epoch 34/100\n",
      "308/308 [==============================] - 1s 4ms/step - loss: 0.0153 - val_loss: 0.0143\n",
      "Epoch 35/100\n",
      "308/308 [==============================] - 1s 4ms/step - loss: 0.0155 - val_loss: 0.0145\n",
      "Epoch 36/100\n",
      "308/308 [==============================] - 1s 4ms/step - loss: 0.0155 - val_loss: 0.0146\n",
      "Epoch 37/100\n",
      "308/308 [==============================] - 1s 4ms/step - loss: 0.0154 - val_loss: 0.0146\n",
      "Epoch 38/100\n",
      "308/308 [==============================] - 1s 4ms/step - loss: 0.0153 - val_loss: 0.0147\n",
      "Epoch 39/100\n",
      "308/308 [==============================] - 1s 4ms/step - loss: 0.0154 - val_loss: 0.0145\n",
      "Epoch 40/100\n",
      "308/308 [==============================] - 1s 5ms/step - loss: 0.0154 - val_loss: 0.0146\n",
      "Epoch 41/100\n",
      "308/308 [==============================] - 1s 4ms/step - loss: 0.0153 - val_loss: 0.0145\n",
      "Epoch 42/100\n",
      "308/308 [==============================] - 1s 4ms/step - loss: 0.0154 - val_loss: 0.0145\n",
      "Epoch 43/100\n",
      "308/308 [==============================] - 1s 4ms/step - loss: 0.0154 - val_loss: 0.0147\n",
      "Epoch 44/100\n",
      "308/308 [==============================] - 1s 4ms/step - loss: 0.0153 - val_loss: 0.0146\n",
      "Epoch 45/100\n",
      "308/308 [==============================] - 1s 4ms/step - loss: 0.0155 - val_loss: 0.0145\n",
      "Epoch 46/100\n",
      "308/308 [==============================] - 1s 4ms/step - loss: 0.0155 - val_loss: 0.0145\n",
      "Epoch 47/100\n",
      "308/308 [==============================] - 1s 5ms/step - loss: 0.0153 - val_loss: 0.0150\n",
      "Epoch 48/100\n",
      "308/308 [==============================] - 2s 5ms/step - loss: 0.0153 - val_loss: 0.0151\n",
      "Epoch 49/100\n",
      "308/308 [==============================] - 1s 4ms/step - loss: 0.0153 - val_loss: 0.0149\n",
      "Epoch 50/100\n",
      "308/308 [==============================] - 1s 4ms/step - loss: 0.0153 - val_loss: 0.0143\n",
      "Epoch 51/100\n",
      "308/308 [==============================] - 1s 4ms/step - loss: 0.0154 - val_loss: 0.0146\n",
      "Epoch 52/100\n",
      "308/308 [==============================] - 1s 5ms/step - loss: 0.0152 - val_loss: 0.0151\n",
      "Epoch 53/100\n",
      "308/308 [==============================] - 1s 4ms/step - loss: 0.0154 - val_loss: 0.0147\n",
      "Epoch 54/100\n",
      "308/308 [==============================] - 1s 4ms/step - loss: 0.0152 - val_loss: 0.0146\n",
      "Epoch 55/100\n",
      "308/308 [==============================] - 1s 4ms/step - loss: 0.0154 - val_loss: 0.0150\n",
      "Epoch 56/100\n",
      "308/308 [==============================] - 1s 4ms/step - loss: 0.0151 - val_loss: 0.0144\n",
      "Epoch 57/100\n",
      "308/308 [==============================] - 1s 4ms/step - loss: 0.0154 - val_loss: 0.0145\n",
      "Epoch 58/100\n",
      "308/308 [==============================] - 1s 4ms/step - loss: 0.0154 - val_loss: 0.0148\n",
      "Epoch 59/100\n",
      "308/308 [==============================] - 1s 4ms/step - loss: 0.0153 - val_loss: 0.0146\n",
      "Epoch 60/100\n",
      "308/308 [==============================] - 1s 4ms/step - loss: 0.0152 - val_loss: 0.0147\n",
      "Epoch 61/100\n",
      "308/308 [==============================] - 1s 4ms/step - loss: 0.0154 - val_loss: 0.0149\n",
      "Epoch 62/100\n",
      "308/308 [==============================] - 1s 4ms/step - loss: 0.0153 - val_loss: 0.0147\n",
      "Epoch 63/100\n",
      "308/308 [==============================] - 1s 4ms/step - loss: 0.0151 - val_loss: 0.0147\n",
      "Epoch 64/100\n",
      "308/308 [==============================] - 1s 4ms/step - loss: 0.0154 - val_loss: 0.0148\n",
      "Epoch 65/100\n",
      "308/308 [==============================] - 1s 4ms/step - loss: 0.0153 - val_loss: 0.0150\n",
      "Epoch 66/100\n",
      "308/308 [==============================] - 1s 4ms/step - loss: 0.0153 - val_loss: 0.0143\n",
      "Epoch 67/100\n",
      "308/308 [==============================] - 1s 5ms/step - loss: 0.0153 - val_loss: 0.0146\n",
      "Epoch 68/100\n",
      "308/308 [==============================] - 1s 4ms/step - loss: 0.0152 - val_loss: 0.0143\n",
      "Epoch 69/100\n",
      "308/308 [==============================] - 1s 4ms/step - loss: 0.0153 - val_loss: 0.0149\n",
      "Epoch 70/100\n",
      "308/308 [==============================] - 1s 4ms/step - loss: 0.0154 - val_loss: 0.0148\n",
      "Epoch 71/100\n",
      "308/308 [==============================] - 1s 4ms/step - loss: 0.0152 - val_loss: 0.0148\n",
      "Epoch 72/100\n",
      "308/308 [==============================] - 1s 5ms/step - loss: 0.0152 - val_loss: 0.0143\n",
      "Epoch 73/100\n",
      "308/308 [==============================] - 1s 4ms/step - loss: 0.0151 - val_loss: 0.0144\n",
      "Epoch 74/100\n",
      "308/308 [==============================] - 1s 4ms/step - loss: 0.0153 - val_loss: 0.0146\n",
      "Epoch 75/100\n",
      "308/308 [==============================] - 1s 4ms/step - loss: 0.0153 - val_loss: 0.0147\n",
      "Epoch 76/100\n",
      "308/308 [==============================] - 1s 4ms/step - loss: 0.0153 - val_loss: 0.0147\n",
      "Epoch 77/100\n",
      "308/308 [==============================] - 1s 4ms/step - loss: 0.0153 - val_loss: 0.0146\n",
      "Epoch 78/100\n",
      "308/308 [==============================] - 1s 4ms/step - loss: 0.0151 - val_loss: 0.0144\n",
      "Epoch 79/100\n",
      "308/308 [==============================] - 1s 4ms/step - loss: 0.0152 - val_loss: 0.0147\n",
      "Epoch 80/100\n",
      "308/308 [==============================] - 1s 4ms/step - loss: 0.0153 - val_loss: 0.0149\n",
      "Epoch 81/100\n",
      "308/308 [==============================] - 1s 4ms/step - loss: 0.0152 - val_loss: 0.0148\n",
      "Epoch 82/100\n",
      "308/308 [==============================] - 1s 4ms/step - loss: 0.0152 - val_loss: 0.0149\n",
      "Epoch 83/100\n",
      "308/308 [==============================] - 1s 4ms/step - loss: 0.0152 - val_loss: 0.0147\n",
      "Epoch 84/100\n",
      "308/308 [==============================] - 1s 4ms/step - loss: 0.0153 - val_loss: 0.0146\n",
      "Epoch 85/100\n",
      "308/308 [==============================] - 1s 4ms/step - loss: 0.0151 - val_loss: 0.0148\n",
      "Epoch 86/100\n",
      "308/308 [==============================] - 1s 4ms/step - loss: 0.0152 - val_loss: 0.0145\n",
      "Epoch 87/100\n",
      "308/308 [==============================] - 1s 4ms/step - loss: 0.0153 - val_loss: 0.0147\n",
      "Epoch 88/100\n",
      "308/308 [==============================] - 1s 5ms/step - loss: 0.0154 - val_loss: 0.0146\n",
      "Epoch 89/100\n",
      "308/308 [==============================] - 1s 5ms/step - loss: 0.0153 - val_loss: 0.0147\n",
      "Epoch 90/100\n",
      "308/308 [==============================] - 2s 5ms/step - loss: 0.0153 - val_loss: 0.0148\n",
      "Epoch 91/100\n",
      "308/308 [==============================] - 1s 4ms/step - loss: 0.0153 - val_loss: 0.0147\n",
      "Epoch 92/100\n",
      "308/308 [==============================] - 1s 4ms/step - loss: 0.0154 - val_loss: 0.0143\n",
      "Epoch 93/100\n",
      "308/308 [==============================] - 1s 4ms/step - loss: 0.0153 - val_loss: 0.0146\n",
      "Epoch 94/100\n",
      "308/308 [==============================] - 1s 4ms/step - loss: 0.0153 - val_loss: 0.0146\n",
      "Epoch 95/100\n",
      "308/308 [==============================] - 1s 4ms/step - loss: 0.0153 - val_loss: 0.0148\n",
      "Epoch 96/100\n",
      "308/308 [==============================] - 1s 4ms/step - loss: 0.0151 - val_loss: 0.0144\n",
      "Epoch 97/100\n",
      "308/308 [==============================] - 1s 4ms/step - loss: 0.0154 - val_loss: 0.0146\n",
      "Epoch 98/100\n",
      "308/308 [==============================] - 1s 4ms/step - loss: 0.0153 - val_loss: 0.0144\n",
      "Epoch 99/100\n",
      "308/308 [==============================] - 1s 4ms/step - loss: 0.0152 - val_loss: 0.0146\n",
      "Epoch 100/100\n",
      "308/308 [==============================] - 1s 4ms/step - loss: 0.0153 - val_loss: 0.0149\n"
     ]
    }
   ],
   "source": [
    "history = ANN_model.fit(x_train, y_train, epochs=100, \n",
    "          validation_data=(x_test,y_test))"
   ]
  },
  {
   "cell_type": "code",
   "execution_count": 62,
   "id": "27e00ba3",
   "metadata": {},
   "outputs": [
    {
     "name": "stdout",
     "output_type": "stream",
     "text": [
      "77/77 [==============================] - 0s 2ms/step - loss: 0.0149\n",
      "Accuracy : 0.9851452959701419\n"
     ]
    }
   ],
   "source": [
    "result = ANN_model.evaluate(x_test, y_test)\n",
    "accuracy_ANN = 1 - result\n",
    "print(\"Accuracy : {}\".format(accuracy_ANN))"
   ]
  },
  {
   "cell_type": "code",
   "execution_count": 63,
   "id": "6a049061",
   "metadata": {},
   "outputs": [
    {
     "data": {
      "text/plain": [
       "dict_keys(['loss', 'val_loss'])"
      ]
     },
     "execution_count": 63,
     "metadata": {},
     "output_type": "execute_result"
    }
   ],
   "source": [
    "history.history.keys()"
   ]
  },
  {
   "cell_type": "code",
   "execution_count": 64,
   "id": "ca3fa4c5",
   "metadata": {},
   "outputs": [
    {
     "data": {
      "image/png": "[encoded data removed]",
      "text/plain": [
       "<Figure size 640x480 with 1 Axes>"
      ]
     },
     "metadata": {},
     "output_type": "display_data"
    }
   ],
   "source": [
    "plt.plot(history.history['loss'])\n",
    "plt.plot(history.history['val_loss'])\n",
    "plt.title('Model loss')\n",
    "plt.ylabel('loss')\n",
    "plt.xlabel('epoch')\n",
    "plt.legend(['train_loss','val_loss'], loc = 'upper right')\n",
    "plt.show()"
   ]
  },
  {
   "cell_type": "code",
   "execution_count": 65,
   "id": "ff0d34b0",
   "metadata": {},
   "outputs": [
    {
     "name": "stdout",
     "output_type": "stream",
     "text": [
      "77/77 [==============================] - 4s 3ms/step\n"
     ]
    },
    {
     "data": {
      "text/plain": [
       "Text(0, 0.5, 'Model prediction')"
      ]
     },
     "execution_count": 65,
     "metadata": {},
     "output_type": "execute_result"
    },
    {
     "data": {
      "image/png": "[encoded data removed]",
      "text/plain": [
       "<Figure size 640x480 with 1 Axes>"
      ]
     },
     "metadata": {},
     "output_type": "display_data"
    }
   ],
   "source": [
    "y_predict = ANN_model.predict(x_test)\n",
    "plt.plot(y_test, y_predict, '^', color='b')\n",
    "plt.xlabel('True value')\n",
    "plt.ylabel('Model prediction')"
   ]
  },
  {
   "cell_type": "code",
   "execution_count": 66,
   "id": "5ed0ad40",
   "metadata": {},
   "outputs": [
    {
     "data": {
      "text/plain": [
       "Text(0, 0.5, 'True Values')"
      ]
     },
     "execution_count": 66,
     "metadata": {},
     "output_type": "execute_result"
    },
    {
     "data": {
      "image/png": "[encoded data removed]",
      "text/plain": [
       "<Figure size 640x480 with 1 Axes>"
      ]
     },
     "metadata": {},
     "output_type": "display_data"
    }
   ],
   "source": [
    "y_predict_orig = scaler_y.inverse_transform(y_predict).round()\n",
    "y_test_orig = scaler_y.inverse_transform(y_test)\n",
    "plt.plot(y_test_orig, y_predict_orig, \"^\", color = 'r')\n",
    "plt.xlabel('Model Predictions')\n",
    "plt.ylabel('True Values')"
   ]
  },
  {
   "cell_type": "code",
   "execution_count": 67,
   "id": "1264852a",
   "metadata": {},
   "outputs": [
    {
     "name": "stdout",
     "output_type": "stream",
     "text": [
      "RMSE = 1.133 \n",
      "MSE = 1.2833942346731628 \n",
      "MAE = 0.8327243199350386 \n",
      "R2 = 0.16685058526135743 \n",
      "Adjusted R2 = 0.16447500648206193\n"
     ]
    }
   ],
   "source": [
    "from sklearn.metrics import r2_score, mean_squared_error, mean_absolute_error\n",
    "from math import sqrt\n",
    "\n",
    "k = x_test.shape[1]\n",
    "n = len(x_test)\n",
    "RMSE = float(format(np.sqrt(mean_squared_error(y_test_orig, y_predict_orig)),'.3f'))\n",
    "MSE = mean_squared_error(y_test_orig, y_predict_orig)\n",
    "MAE = mean_absolute_error(y_test_orig, y_predict_orig)\n",
    "r2 = r2_score(y_test_orig, y_predict_orig)\n",
    "adj_r2 = 1-(1-r2)*(n-1)/(n-k-1)\n",
    "\n",
    "print('RMSE =',RMSE, '\\nMSE =',MSE, '\\nMAE =',MAE, '\\nR2 =', r2, '\\nAdjusted R2 =', adj_r2) "
   ]
  },
  {
   "cell_type": "code",
   "execution_count": 68,
   "id": "deb59249",
   "metadata": {},
   "outputs": [
    {
     "data": {
      "text/html": [
       "<div>\n",
       "<style scoped>\n",
       "    .dataframe tbody tr th:only-of-type {\n",
       "        vertical-align: middle;\n",
       "    }\n",
       "\n",
       "    .dataframe tbody tr th {\n",
       "        vertical-align: top;\n",
       "    }\n",
       "\n",
       "    .dataframe thead th {\n",
       "        text-align: right;\n",
       "    }\n",
       "</style>\n",
       "<table border=\"1\" class=\"dataframe\">\n",
       "  <thead>\n",
       "    <tr style=\"text-align: right;\">\n",
       "      <th></th>\n",
       "      <th>Predict</th>\n",
       "      <th>Actual</th>\n",
       "    </tr>\n",
       "  </thead>\n",
       "  <tbody>\n",
       "    <tr>\n",
       "      <th>2453</th>\n",
       "      <td>2.0</td>\n",
       "      <td>1.0</td>\n",
       "    </tr>\n",
       "    <tr>\n",
       "      <th>2454</th>\n",
       "      <td>1.0</td>\n",
       "      <td>0.0</td>\n",
       "    </tr>\n",
       "    <tr>\n",
       "      <th>2455</th>\n",
       "      <td>2.0</td>\n",
       "      <td>4.0</td>\n",
       "    </tr>\n",
       "    <tr>\n",
       "      <th>2456</th>\n",
       "      <td>2.0</td>\n",
       "      <td>2.0</td>\n",
       "    </tr>\n",
       "    <tr>\n",
       "      <th>2457</th>\n",
       "      <td>1.0</td>\n",
       "      <td>2.0</td>\n",
       "    </tr>\n",
       "    <tr>\n",
       "      <th>2458</th>\n",
       "      <td>1.0</td>\n",
       "      <td>2.0</td>\n",
       "    </tr>\n",
       "    <tr>\n",
       "      <th>2459</th>\n",
       "      <td>2.0</td>\n",
       "      <td>4.0</td>\n",
       "    </tr>\n",
       "    <tr>\n",
       "      <th>2460</th>\n",
       "      <td>1.0</td>\n",
       "      <td>0.0</td>\n",
       "    </tr>\n",
       "    <tr>\n",
       "      <th>2461</th>\n",
       "      <td>1.0</td>\n",
       "      <td>1.0</td>\n",
       "    </tr>\n",
       "    <tr>\n",
       "      <th>2462</th>\n",
       "      <td>1.0</td>\n",
       "      <td>2.0</td>\n",
       "    </tr>\n",
       "  </tbody>\n",
       "</table>\n",
       "</div>"
      ],
      "text/plain": [
       "      Predict  Actual\n",
       "2453      2.0     1.0\n",
       "2454      1.0     0.0\n",
       "2455      2.0     4.0\n",
       "2456      2.0     2.0\n",
       "2457      1.0     2.0\n",
       "2458      1.0     2.0\n",
       "2459      2.0     4.0\n",
       "2460      1.0     0.0\n",
       "2461      1.0     1.0\n",
       "2462      1.0     2.0"
      ]
     },
     "execution_count": 68,
     "metadata": {},
     "output_type": "execute_result"
    }
   ],
   "source": [
    "sample = pd.DataFrame(y_predict_orig.round(),columns=['Predict'])\n",
    "sample['Actual']=y_test_orig\n",
    "sample.tail(10)"
   ]
  },
  {
   "cell_type": "code",
   "execution_count": 69,
   "id": "bb364780",
   "metadata": {},
   "outputs": [],
   "source": [
    "def match_score(team1, team2):\n",
    "    home_t, away_t = game(team1, team2)\n",
    "    avg_con = list(conners(home_t, away_t, poisson_conners))\n",
    "    avg_yel = list(yellow(home_t, away_t, poisson_yellow))\n",
    "    avg_red = list(red(home_t, away_t, poisson_red))\n",
    "    avg_tar = list(target(home_t, away_t, poisson_target))\n",
    "    avg_shots = list(shots(home_t, away_t, poisson_shots))\n",
    "    avg_foul = list(conners(home_t, away_t, poisson_fouls))\n",
    "\n",
    "    game_stats = {'shots':avg_shots[0],'target':avg_tar[0],\n",
    "                  'foul':avg_foul[0],'conners': avg_con[0], 'yellow':avg_yel[0], \n",
    "             'red': avg_red[0],'home':1}\n",
    "\n",
    "    game_stats_1 = {'shots':avg_shots[1],'target':avg_tar[1],\n",
    "                  'foul':avg_foul[1],'conners': avg_con[1], 'yellow':avg_yel[1], \n",
    "             'red': avg_red[1],'home':0}\n",
    "    \n",
    "    df_11 = pd.DataFrame.from_dict(game_stats, orient='columns')\n",
    "    df_12 = pd.DataFrame.from_dict(game_stats_1, orient='columns')\n",
    "    \n",
    "    match_df = pd.concat([df_11, df_12])\n",
    "    match_df.index = [['home', 'away']]\n",
    "    \n",
    "    match_df_new = np.array(match_df)\n",
    "    scaler_pred = MinMaxScaler()\n",
    "    pred = scaler_pred.fit_transform(match_df_new)\n",
    "    match_pred = ANN_model.predict(pred)\n",
    "    predict_orig = scaler_y.inverse_transform(match_pred)\n",
    "    \n",
    "    results = pd.DataFrame(predict_orig,columns=['goals'])\n",
    "    results.index =[['Home', 'Away']]\n",
    "    results['goals'] =results['goals'].apply(np.floor)\n",
    "    \n",
    "    \n",
    "    \n",
    "    \n",
    "    \n",
    "    return results"
   ]
  },
  {
   "cell_type": "code",
   "execution_count": 70,
   "id": "dd7b2f2e",
   "metadata": {},
   "outputs": [
    {
     "name": "stdout",
     "output_type": "stream",
     "text": [
      "1/1 [==============================] - 0s 44ms/step\n"
     ]
    },
    {
     "data": {
      "text/html": [
       "<div>\n",
       "<style scoped>\n",
       "    .dataframe tbody tr th:only-of-type {\n",
       "        vertical-align: middle;\n",
       "    }\n",
       "\n",
       "    .dataframe tbody tr th {\n",
       "        vertical-align: top;\n",
       "    }\n",
       "\n",
       "    .dataframe thead th {\n",
       "        text-align: right;\n",
       "    }\n",
       "</style>\n",
       "<table border=\"1\" class=\"dataframe\">\n",
       "  <thead>\n",
       "    <tr style=\"text-align: right;\">\n",
       "      <th></th>\n",
       "      <th>goals</th>\n",
       "    </tr>\n",
       "  </thead>\n",
       "  <tbody>\n",
       "    <tr>\n",
       "      <th>Home</th>\n",
       "      <td>0.0</td>\n",
       "    </tr>\n",
       "    <tr>\n",
       "      <th>Away</th>\n",
       "      <td>1.0</td>\n",
       "    </tr>\n",
       "  </tbody>\n",
       "</table>\n",
       "</div>"
      ],
      "text/plain": [
       "      goals\n",
       "Home    0.0\n",
       "Away    1.0"
      ]
     },
     "execution_count": 70,
     "metadata": {},
     "output_type": "execute_result"
    }
   ],
   "source": [
    "match_score('Newcastle', 'Chelsea')"
   ]
  },
  {
   "cell_type": "code",
   "execution_count": 71,
   "id": "df7abae9",
   "metadata": {},
   "outputs": [
    {
     "name": "stdout",
     "output_type": "stream",
     "text": [
      "1/1 [==============================] - 0s 21ms/step\n"
     ]
    },
    {
     "data": {
      "text/html": [
       "<div>\n",
       "<style scoped>\n",
       "    .dataframe tbody tr th:only-of-type {\n",
       "        vertical-align: middle;\n",
       "    }\n",
       "\n",
       "    .dataframe tbody tr th {\n",
       "        vertical-align: top;\n",
       "    }\n",
       "\n",
       "    .dataframe thead th {\n",
       "        text-align: right;\n",
       "    }\n",
       "</style>\n",
       "<table border=\"1\" class=\"dataframe\">\n",
       "  <thead>\n",
       "    <tr style=\"text-align: right;\">\n",
       "      <th></th>\n",
       "      <th>goals</th>\n",
       "    </tr>\n",
       "  </thead>\n",
       "  <tbody>\n",
       "    <tr>\n",
       "      <th>Home</th>\n",
       "      <td>0.0</td>\n",
       "    </tr>\n",
       "    <tr>\n",
       "      <th>Away</th>\n",
       "      <td>1.0</td>\n",
       "    </tr>\n",
       "  </tbody>\n",
       "</table>\n",
       "</div>"
      ],
      "text/plain": [
       "      goals\n",
       "Home    0.0\n",
       "Away    1.0"
      ]
     },
     "execution_count": 71,
     "metadata": {},
     "output_type": "execute_result"
    }
   ],
   "source": [
    "match_score('Aston Villa', 'Man United')"
   ]
  },
  {
   "cell_type": "code",
   "execution_count": 72,
   "id": "d4726dc5",
   "metadata": {},
   "outputs": [
    {
     "name": "stdout",
     "output_type": "stream",
     "text": [
      "1/1 [==============================] - 0s 27ms/step\n"
     ]
    },
    {
     "data": {
      "text/html": [
       "<div>\n",
       "<style scoped>\n",
       "    .dataframe tbody tr th:only-of-type {\n",
       "        vertical-align: middle;\n",
       "    }\n",
       "\n",
       "    .dataframe tbody tr th {\n",
       "        vertical-align: top;\n",
       "    }\n",
       "\n",
       "    .dataframe thead th {\n",
       "        text-align: right;\n",
       "    }\n",
       "</style>\n",
       "<table border=\"1\" class=\"dataframe\">\n",
       "  <thead>\n",
       "    <tr style=\"text-align: right;\">\n",
       "      <th></th>\n",
       "      <th>goals</th>\n",
       "    </tr>\n",
       "  </thead>\n",
       "  <tbody>\n",
       "    <tr>\n",
       "      <th>Home</th>\n",
       "      <td>2.0</td>\n",
       "    </tr>\n",
       "    <tr>\n",
       "      <th>Away</th>\n",
       "      <td>0.0</td>\n",
       "    </tr>\n",
       "  </tbody>\n",
       "</table>\n",
       "</div>"
      ],
      "text/plain": [
       "      goals\n",
       "Home    2.0\n",
       "Away    0.0"
      ]
     },
     "execution_count": 72,
     "metadata": {},
     "output_type": "execute_result"
    }
   ],
   "source": [
    "match_score('Liverpool', 'Southampton')"
   ]
  },
  {
   "cell_type": "code",
   "execution_count": 74,
   "id": "43271438",
   "metadata": {},
   "outputs": [
    {
     "name": "stdout",
     "output_type": "stream",
     "text": [
      "1/1 [==============================] - 0s 28ms/step\n"
     ]
    },
    {
     "data": {
      "text/html": [
       "<div>\n",
       "<style scoped>\n",
       "    .dataframe tbody tr th:only-of-type {\n",
       "        vertical-align: middle;\n",
       "    }\n",
       "\n",
       "    .dataframe tbody tr th {\n",
       "        vertical-align: top;\n",
       "    }\n",
       "\n",
       "    .dataframe thead th {\n",
       "        text-align: right;\n",
       "    }\n",
       "</style>\n",
       "<table border=\"1\" class=\"dataframe\">\n",
       "  <thead>\n",
       "    <tr style=\"text-align: right;\">\n",
       "      <th></th>\n",
       "      <th>goals</th>\n",
       "    </tr>\n",
       "  </thead>\n",
       "  <tbody>\n",
       "    <tr>\n",
       "      <th>Home</th>\n",
       "      <td>0.0</td>\n",
       "    </tr>\n",
       "    <tr>\n",
       "      <th>Away</th>\n",
       "      <td>2.0</td>\n",
       "    </tr>\n",
       "  </tbody>\n",
       "</table>\n",
       "</div>"
      ],
      "text/plain": [
       "      goals\n",
       "Home    0.0\n",
       "Away    2.0"
      ]
     },
     "execution_count": 74,
     "metadata": {},
     "output_type": "execute_result"
    }
   ],
   "source": [
    "match_score(\"Nott'm Forest\", 'Crystal Palace')"
   ]
  },
  {
   "cell_type": "code",
   "execution_count": 75,
   "id": "1263f66e",
   "metadata": {},
   "outputs": [
    {
     "name": "stdout",
     "output_type": "stream",
     "text": [
      "1/1 [==============================] - 0s 24ms/step\n"
     ]
    },
    {
     "data": {
      "text/html": [
       "<div>\n",
       "<style scoped>\n",
       "    .dataframe tbody tr th:only-of-type {\n",
       "        vertical-align: middle;\n",
       "    }\n",
       "\n",
       "    .dataframe tbody tr th {\n",
       "        vertical-align: top;\n",
       "    }\n",
       "\n",
       "    .dataframe thead th {\n",
       "        text-align: right;\n",
       "    }\n",
       "</style>\n",
       "<table border=\"1\" class=\"dataframe\">\n",
       "  <thead>\n",
       "    <tr style=\"text-align: right;\">\n",
       "      <th></th>\n",
       "      <th>goals</th>\n",
       "    </tr>\n",
       "  </thead>\n",
       "  <tbody>\n",
       "    <tr>\n",
       "      <th>Home</th>\n",
       "      <td>0.0</td>\n",
       "    </tr>\n",
       "    <tr>\n",
       "      <th>Away</th>\n",
       "      <td>1.0</td>\n",
       "    </tr>\n",
       "  </tbody>\n",
       "</table>\n",
       "</div>"
      ],
      "text/plain": [
       "      goals\n",
       "Home    0.0\n",
       "Away    1.0"
      ]
     },
     "execution_count": 75,
     "metadata": {},
     "output_type": "execute_result"
    }
   ],
   "source": [
    "match_score('Wolves', 'Arsenal')"
   ]
  },
  {
   "cell_type": "code",
   "execution_count": 76,
   "id": "5493517b",
   "metadata": {},
   "outputs": [
    {
     "name": "stdout",
     "output_type": "stream",
     "text": [
      "1/1 [==============================] - 0s 23ms/step\n"
     ]
    },
    {
     "data": {
      "text/html": [
       "<div>\n",
       "<style scoped>\n",
       "    .dataframe tbody tr th:only-of-type {\n",
       "        vertical-align: middle;\n",
       "    }\n",
       "\n",
       "    .dataframe tbody tr th {\n",
       "        vertical-align: top;\n",
       "    }\n",
       "\n",
       "    .dataframe thead th {\n",
       "        text-align: right;\n",
       "    }\n",
       "</style>\n",
       "<table border=\"1\" class=\"dataframe\">\n",
       "  <thead>\n",
       "    <tr style=\"text-align: right;\">\n",
       "      <th></th>\n",
       "      <th>goals</th>\n",
       "    </tr>\n",
       "  </thead>\n",
       "  <tbody>\n",
       "    <tr>\n",
       "      <th>Home</th>\n",
       "      <td>0.0</td>\n",
       "    </tr>\n",
       "    <tr>\n",
       "      <th>Away</th>\n",
       "      <td>1.0</td>\n",
       "    </tr>\n",
       "  </tbody>\n",
       "</table>\n",
       "</div>"
      ],
      "text/plain": [
       "      goals\n",
       "Home    0.0\n",
       "Away    1.0"
      ]
     },
     "execution_count": 76,
     "metadata": {},
     "output_type": "execute_result"
    }
   ],
   "source": [
    "match_score('West Ham', 'Leicester')"
   ]
  },
  {
   "cell_type": "code",
   "execution_count": 77,
   "id": "8d98594c",
   "metadata": {},
   "outputs": [
    {
     "name": "stdout",
     "output_type": "stream",
     "text": [
      "1/1 [==============================] - 0s 45ms/step\n"
     ]
    },
    {
     "data": {
      "text/html": [
       "<div>\n",
       "<style scoped>\n",
       "    .dataframe tbody tr th:only-of-type {\n",
       "        vertical-align: middle;\n",
       "    }\n",
       "\n",
       "    .dataframe tbody tr th {\n",
       "        vertical-align: top;\n",
       "    }\n",
       "\n",
       "    .dataframe thead th {\n",
       "        text-align: right;\n",
       "    }\n",
       "</style>\n",
       "<table border=\"1\" class=\"dataframe\">\n",
       "  <thead>\n",
       "    <tr style=\"text-align: right;\">\n",
       "      <th></th>\n",
       "      <th>goals</th>\n",
       "    </tr>\n",
       "  </thead>\n",
       "  <tbody>\n",
       "    <tr>\n",
       "      <th>Home</th>\n",
       "      <td>1.0</td>\n",
       "    </tr>\n",
       "    <tr>\n",
       "      <th>Away</th>\n",
       "      <td>0.0</td>\n",
       "    </tr>\n",
       "  </tbody>\n",
       "</table>\n",
       "</div>"
      ],
      "text/plain": [
       "      goals\n",
       "Home    1.0\n",
       "Away    0.0"
      ]
     },
     "execution_count": 77,
     "metadata": {},
     "output_type": "execute_result"
    }
   ],
   "source": [
    "match_score('Brighton', 'Aston Villa')"
   ]
  },
  {
   "cell_type": "code",
   "execution_count": 78,
   "id": "1a680ccc",
   "metadata": {},
   "outputs": [
    {
     "name": "stdout",
     "output_type": "stream",
     "text": [
      "1/1 [==============================] - 0s 24ms/step\n"
     ]
    },
    {
     "data": {
      "text/html": [
       "<div>\n",
       "<style scoped>\n",
       "    .dataframe tbody tr th:only-of-type {\n",
       "        vertical-align: middle;\n",
       "    }\n",
       "\n",
       "    .dataframe tbody tr th {\n",
       "        vertical-align: top;\n",
       "    }\n",
       "\n",
       "    .dataframe thead th {\n",
       "        text-align: right;\n",
       "    }\n",
       "</style>\n",
       "<table border=\"1\" class=\"dataframe\">\n",
       "  <thead>\n",
       "    <tr style=\"text-align: right;\">\n",
       "      <th></th>\n",
       "      <th>goals</th>\n",
       "    </tr>\n",
       "  </thead>\n",
       "  <tbody>\n",
       "    <tr>\n",
       "      <th>Home</th>\n",
       "      <td>0.0</td>\n",
       "    </tr>\n",
       "    <tr>\n",
       "      <th>Away</th>\n",
       "      <td>1.0</td>\n",
       "    </tr>\n",
       "  </tbody>\n",
       "</table>\n",
       "</div>"
      ],
      "text/plain": [
       "      goals\n",
       "Home    0.0\n",
       "Away    1.0"
      ]
     },
     "execution_count": 78,
     "metadata": {},
     "output_type": "execute_result"
    }
   ],
   "source": [
    "match_score('Bournemouth', 'Everton')"
   ]
  },
  {
   "cell_type": "code",
   "execution_count": 79,
   "id": "1793a616",
   "metadata": {},
   "outputs": [
    {
     "name": "stdout",
     "output_type": "stream",
     "text": [
      "1/1 [==============================] - 0s 42ms/step\n"
     ]
    },
    {
     "data": {
      "text/html": [
       "<div>\n",
       "<style scoped>\n",
       "    .dataframe tbody tr th:only-of-type {\n",
       "        vertical-align: middle;\n",
       "    }\n",
       "\n",
       "    .dataframe tbody tr th {\n",
       "        vertical-align: top;\n",
       "    }\n",
       "\n",
       "    .dataframe thead th {\n",
       "        text-align: right;\n",
       "    }\n",
       "</style>\n",
       "<table border=\"1\" class=\"dataframe\">\n",
       "  <thead>\n",
       "    <tr style=\"text-align: right;\">\n",
       "      <th></th>\n",
       "      <th>goals</th>\n",
       "    </tr>\n",
       "  </thead>\n",
       "  <tbody>\n",
       "    <tr>\n",
       "      <th>Home</th>\n",
       "      <td>2.0</td>\n",
       "    </tr>\n",
       "    <tr>\n",
       "      <th>Away</th>\n",
       "      <td>0.0</td>\n",
       "    </tr>\n",
       "  </tbody>\n",
       "</table>\n",
       "</div>"
      ],
      "text/plain": [
       "      goals\n",
       "Home    2.0\n",
       "Away    0.0"
      ]
     },
     "execution_count": 79,
     "metadata": {},
     "output_type": "execute_result"
    }
   ],
   "source": [
    "match_score('Tottenham','Leeds')"
   ]
  },
  {
   "cell_type": "code",
   "execution_count": 80,
   "id": "8ea39839",
   "metadata": {
    "scrolled": true
   },
   "outputs": [
    {
     "name": "stdout",
     "output_type": "stream",
     "text": [
      "1/1 [==============================] - 0s 22ms/step\n"
     ]
    },
    {
     "data": {
      "text/html": [
       "<div>\n",
       "<style scoped>\n",
       "    .dataframe tbody tr th:only-of-type {\n",
       "        vertical-align: middle;\n",
       "    }\n",
       "\n",
       "    .dataframe tbody tr th {\n",
       "        vertical-align: top;\n",
       "    }\n",
       "\n",
       "    .dataframe thead th {\n",
       "        text-align: right;\n",
       "    }\n",
       "</style>\n",
       "<table border=\"1\" class=\"dataframe\">\n",
       "  <thead>\n",
       "    <tr style=\"text-align: right;\">\n",
       "      <th></th>\n",
       "      <th>goals</th>\n",
       "    </tr>\n",
       "  </thead>\n",
       "  <tbody>\n",
       "    <tr>\n",
       "      <th>Home</th>\n",
       "      <td>2.0</td>\n",
       "    </tr>\n",
       "    <tr>\n",
       "      <th>Away</th>\n",
       "      <td>0.0</td>\n",
       "    </tr>\n",
       "  </tbody>\n",
       "</table>\n",
       "</div>"
      ],
      "text/plain": [
       "      goals\n",
       "Home    2.0\n",
       "Away    0.0"
      ]
     },
     "execution_count": 80,
     "metadata": {},
     "output_type": "execute_result"
    }
   ],
   "source": [
    "match_score(\"Man City\", 'Brentford')"
   ]
  },
  {
   "cell_type": "code",
   "execution_count": 84,
   "id": "f23117a4",
   "metadata": {},
   "outputs": [
    {
     "name": "stdout",
     "output_type": "stream",
     "text": [
      "1/1 [==============================] - 0s 25ms/step\n"
     ]
    },
    {
     "data": {
      "text/html": [
       "<div>\n",
       "<style scoped>\n",
       "    .dataframe tbody tr th:only-of-type {\n",
       "        vertical-align: middle;\n",
       "    }\n",
       "\n",
       "    .dataframe tbody tr th {\n",
       "        vertical-align: top;\n",
       "    }\n",
       "\n",
       "    .dataframe thead th {\n",
       "        text-align: right;\n",
       "    }\n",
       "</style>\n",
       "<table border=\"1\" class=\"dataframe\">\n",
       "  <thead>\n",
       "    <tr style=\"text-align: right;\">\n",
       "      <th></th>\n",
       "      <th>goals</th>\n",
       "    </tr>\n",
       "  </thead>\n",
       "  <tbody>\n",
       "    <tr>\n",
       "      <th>Home</th>\n",
       "      <td>0.0</td>\n",
       "    </tr>\n",
       "    <tr>\n",
       "      <th>Away</th>\n",
       "      <td>1.0</td>\n",
       "    </tr>\n",
       "  </tbody>\n",
       "</table>\n",
       "</div>"
      ],
      "text/plain": [
       "      goals\n",
       "Home    0.0\n",
       "Away    1.0"
      ]
     },
     "execution_count": 84,
     "metadata": {},
     "output_type": "execute_result"
    }
   ],
   "source": [
    "match_score('Fulham','Man United')"
   ]
  }
 ],
 "metadata": {
  "kernelspec": {
   "display_name": "Python 3 (ipykernel)",
   "language": "python",
   "name": "python3"
  },
  "language_info": {
   "codemirror_mode": {
    "name": "ipython",
    "version": 3
   },
   "file_extension": ".py",
   "mimetype": "text/x-python",
   "name": "python",
   "nbconvert_exporter": "python",
   "pygments_lexer": "ipython3",
   "version": "3.9.12"
  }
 },
 "nbformat": 4,
 "nbformat_minor": 5
}
